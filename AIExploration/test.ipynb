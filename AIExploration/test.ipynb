{
 "cells": [
  {
   "cell_type": "code",
   "execution_count": 1,
   "metadata": {},
   "outputs": [],
   "source": [
    "import numpy as np"
   ]
  },
  {
   "cell_type": "code",
   "execution_count": 2,
   "metadata": {},
   "outputs": [],
   "source": [
    "board = np.zeros((20,20))"
   ]
  },
  {
   "cell_type": "code",
   "execution_count": 3,
   "metadata": {},
   "outputs": [
    {
     "name": "stdout",
     "output_type": "stream",
     "text": [
      "[[0. 0. 0. 0. 0. 0. 0. 0. 0. 0. 0. 0. 0. 0. 0. 0. 0. 0. 0. 0.]\n",
      " [0. 0. 0. 0. 0. 0. 0. 0. 0. 0. 0. 0. 0. 0. 0. 0. 0. 0. 0. 0.]\n",
      " [0. 0. 0. 0. 0. 0. 0. 0. 0. 0. 0. 0. 0. 0. 0. 0. 0. 0. 0. 0.]\n",
      " [0. 0. 0. 0. 0. 0. 0. 0. 0. 0. 0. 0. 0. 0. 0. 0. 0. 0. 0. 0.]\n",
      " [0. 0. 0. 0. 0. 0. 0. 0. 0. 0. 0. 0. 0. 0. 0. 0. 0. 0. 0. 0.]\n",
      " [0. 0. 0. 0. 0. 0. 0. 0. 0. 0. 0. 0. 0. 0. 0. 0. 0. 0. 0. 0.]\n",
      " [0. 0. 0. 0. 0. 0. 0. 0. 0. 0. 0. 0. 0. 0. 0. 0. 0. 0. 0. 0.]\n",
      " [0. 0. 0. 0. 0. 0. 0. 0. 0. 0. 0. 0. 0. 0. 0. 0. 0. 0. 0. 0.]\n",
      " [0. 0. 0. 0. 0. 0. 0. 0. 0. 0. 0. 0. 0. 0. 0. 0. 0. 0. 0. 0.]\n",
      " [0. 0. 0. 0. 0. 0. 0. 0. 0. 0. 0. 0. 0. 0. 0. 0. 0. 0. 0. 0.]\n",
      " [0. 0. 0. 0. 0. 0. 0. 0. 0. 0. 0. 0. 0. 0. 0. 0. 0. 0. 0. 0.]\n",
      " [0. 0. 0. 0. 0. 0. 0. 0. 0. 0. 0. 0. 0. 0. 0. 0. 0. 0. 0. 0.]\n",
      " [0. 0. 0. 0. 0. 0. 0. 0. 0. 0. 0. 0. 0. 0. 0. 0. 0. 0. 0. 0.]\n",
      " [0. 0. 0. 0. 0. 0. 0. 0. 0. 0. 0. 0. 0. 0. 0. 0. 0. 0. 0. 0.]\n",
      " [0. 0. 0. 0. 0. 0. 0. 0. 0. 0. 0. 0. 0. 0. 0. 0. 0. 0. 0. 0.]\n",
      " [0. 0. 0. 0. 0. 0. 0. 0. 0. 0. 0. 0. 0. 0. 0. 0. 0. 0. 0. 0.]\n",
      " [0. 0. 0. 0. 0. 0. 0. 0. 0. 0. 0. 0. 0. 0. 0. 0. 0. 0. 0. 0.]\n",
      " [0. 0. 0. 0. 0. 0. 0. 0. 0. 0. 0. 0. 0. 0. 0. 0. 0. 0. 0. 0.]\n",
      " [0. 0. 0. 0. 0. 0. 0. 0. 0. 0. 0. 0. 0. 0. 0. 0. 0. 0. 0. 0.]\n",
      " [0. 0. 0. 0. 0. 0. 0. 0. 0. 0. 0. 0. 0. 0. 0. 0. 0. 0. 0. 0.]]\n"
     ]
    }
   ],
   "source": [
    "print(board)"
   ]
  },
  {
   "cell_type": "code",
   "execution_count": 53,
   "metadata": {},
   "outputs": [],
   "source": [
    "def unique_piece(possibility, pieces):\n",
    "    # checks the same piece doesn't already exist\n",
    "    transposedArray = np.transpose(possibility)\n",
    "    possibilityTransformedArray = [possibility, transposedArray]\n",
    "    np.rot90(possibility)\n",
    "    possibilityTransformedArray.append(np.flip(transposedArray,axis=0))\n",
    "    possibilityTransformedArray.append(np.flip(transposedArray,axis=1))\n",
    "    possibilityTransformedArray.append(np.flip(possibility,axis=0))\n",
    "    possibilityTransformedArray.append(np.flip(possibility,axis=1))\n",
    "    isUnique = True\n",
    "    for piece in pieces:\n",
    "        notSame = np.any(np.all(piece == possibilityTransformedArray, axis=1))\n",
    "        isUnique = isUnique and notSame\n",
    "    return isUnique"
   ]
  },
  {
   "cell_type": "code",
   "execution_count": null,
   "metadata": {},
   "outputs": [],
   "source": []
  },
  {
   "cell_type": "code",
   "execution_count": 25,
   "metadata": {},
   "outputs": [
    {
     "data": {
      "text/plain": [
       "True"
      ]
     },
     "execution_count": 25,
     "metadata": {},
     "output_type": "execute_result"
    }
   ],
   "source": [
    "def valid_piece(possibility):\n",
    "    # for a piece to be valid, every square that makes it up must be touching another\n",
    "    isValid = True\n",
    "    dimensionMax = possibility.shape[0]\n",
    "    for i in range(dimensionMax):\n",
    "        for j in range(dimensionMax):\n",
    "            if possibility[i][j] == 1:\n",
    "                left = (i,j-1)\n",
    "                right = (i,j+1)\n",
    "                up = (i-1,j)\n",
    "                down = (i+1,j)\n",
    "                # left,right,up,down pieces\n",
    "                adjacentIndexes = (left,right,up,down)\n",
    "                isConnected = False\n",
    "                for adjacentIndex in adjacentIndexes:\n",
    "                    if adjacentIndex[0] < dimensionMax and adjacentIndex[0] >= 0 and adjacentIndex[1] < dimensionMax and adjacentIndex[1] >= 0:\n",
    "                        isConnected = isConnected or (possibility[adjacentIndex[0]][adjacentIndex[1]] == 1)\n",
    "                isValid = isValid and isConnected\n",
    "    return isValid"
   ]
  },
  {
   "cell_type": "code",
   "execution_count": 34,
   "metadata": {},
   "outputs": [
    {
     "data": {
      "text/plain": [
       "[array([[1., 1.],\n",
       "        [0., 0.]]),\n",
       " array([[1., 0.],\n",
       "        [1., 0.]]),\n",
       " array([[1., 0.],\n",
       "        [0., 1.]])]"
      ]
     },
     "execution_count": 34,
     "metadata": {},
     "output_type": "execute_result"
    }
   ],
   "source": [
    "def generate_possible(roots, prev_size):\n",
    "    possibilities = []\n",
    "    for root in roots:\n",
    "        rootRaw = root.copy()\n",
    "        root = np.zeros((prev_size+1,prev_size+1))\n",
    "        root[0:prev_size,0:prev_size] = root[0:prev_size,0:prev_size] + rootRaw\n",
    "        root_flat = root.flatten()\n",
    "        empty = (prev_size+1)**2 - prev_size\n",
    "        for i in range(0,empty):\n",
    "            j = i\n",
    "            array_index = 0\n",
    "            while j != 0 or root_flat[array_index] == 1:\n",
    "                if root_flat[array_index] == 0:\n",
    "                    j -= 1\n",
    "                array_index += 1\n",
    "            possibility = root_flat.copy()\n",
    "            possibility[array_index] = 1\n",
    "            possibility = possibility.reshape((prev_size+1,prev_size+1))\n",
    "            possibilities.append(possibility)\n",
    "    return possibilities\n",
    "\n",
    "generate_possible(np.ones((1,1)),1)"
   ]
  },
  {
   "cell_type": "code",
   "execution_count": 47,
   "metadata": {},
   "outputs": [
    {
     "name": "stdout",
     "output_type": "stream",
     "text": [
      "[[1. 1.]\n",
      " [0. 0.]]\n",
      "[[1. 0.]\n",
      " [1. 0.]]\n",
      "[[1. 0.]\n",
      " [0. 1.]]\n",
      "[array([[1.]]), array([[1., 1.],\n",
      "       [0., 0.]]), array([[1., 0.],\n",
      "       [1., 0.]])]\n"
     ]
    }
   ],
   "source": [
    "pieces = [np.ones((1,1))]\n",
    "roots = [np.ones((1,1))]\n",
    "newRoots = []\n",
    "possibilities = generate_possible(roots,1)\n",
    "for possibility in possibilities:\n",
    "    if unique_piece(possibility, pieces) and valid_piece(possibility):\n",
    "        pieces.append(possibility)\n",
    "        newRoots.append(possibility)\n",
    "print(pieces)"
   ]
  },
  {
   "cell_type": "code",
   "execution_count": 59,
   "metadata": {},
   "outputs": [],
   "source": [
    "def nextShapes(roots, prevSize):\n",
    "    pieces = []\n",
    "    if prevSize < 3:\n",
    "        possibilities = generate_possible(roots,prevSize)\n",
    "        for possibility in possibilities:\n",
    "            if unique_piece(possibility, pieces) and valid_piece(possibility):\n",
    "                pieces.append(possibility)\n",
    "        pieces = pieces + nextShapes(pieces, prevSize + 1)\n",
    "    return pieces\n",
    "\n",
    "blokusPieces = nextShapes(np.ones((1,1)),1)\n"
   ]
  },
  {
   "cell_type": "code",
   "execution_count": 62,
   "metadata": {},
   "outputs": [
    {
     "data": {
      "text/plain": [
       "[array([[1., 1.],\n",
       "        [0., 0.]]),\n",
       " array([[1., 0.],\n",
       "        [1., 0.]]),\n",
       " array([[1., 1., 1.],\n",
       "        [0., 0., 0.],\n",
       "        [0., 0., 0.]]),\n",
       " array([[1., 1., 0.],\n",
       "        [1., 0., 0.],\n",
       "        [0., 0., 0.]]),\n",
       " array([[1., 1., 0.],\n",
       "        [0., 1., 0.],\n",
       "        [0., 0., 0.]]),\n",
       " array([[1., 1., 0.],\n",
       "        [1., 0., 0.],\n",
       "        [0., 0., 0.]]),\n",
       " array([[1., 0., 0.],\n",
       "        [1., 1., 0.],\n",
       "        [0., 0., 0.]]),\n",
       " array([[1., 0., 0.],\n",
       "        [1., 0., 0.],\n",
       "        [1., 0., 0.]])]"
      ]
     },
     "execution_count": 62,
     "metadata": {},
     "output_type": "execute_result"
    }
   ],
   "source": [
    "blokusPieces"
   ]
  }
 ],
 "metadata": {
  "kernelspec": {
   "display_name": "Python 3",
   "language": "python",
   "name": "python3"
  },
  "language_info": {
   "codemirror_mode": {
    "name": "ipython",
    "version": 3
   },
   "file_extension": ".py",
   "mimetype": "text/x-python",
   "name": "python",
   "nbconvert_exporter": "python",
   "pygments_lexer": "ipython3",
   "version": "3.11.6"
  }
 },
 "nbformat": 4,
 "nbformat_minor": 2
}
